{
  "nbformat": 4,
  "nbformat_minor": 0,
  "metadata": {
    "colab": {
      "provenance": [],
      "toc_visible": true
    },
    "kernelspec": {
      "name": "python3",
      "display_name": "Python 3"
    },
    "language_info": {
      "name": "python"
    }
  },
  "cells": [
    {
      "cell_type": "code",
      "execution_count": null,
      "metadata": {
        "colab": {
          "base_uri": "https://localhost:8080/"
        },
        "id": "rvLb9vv_BR5x",
        "outputId": "a2738311-1b16-49eb-a2ac-de0e720a9304"
      },
      "outputs": [
        {
          "output_type": "stream",
          "name": "stdout",
          "text": [
            "Hello, World\n"
          ]
        }
      ],
      "source": [
        "print(\"Hello, World\")"
      ]
    },
    {
      "cell_type": "code",
      "source": [
        "name =  input(\"What is your name? \")\n",
        "print(f\"Hello, {name}!\")"
      ],
      "metadata": {
        "colab": {
          "base_uri": "https://localhost:8080/"
        },
        "id": "_t2CvKF0BnZp",
        "outputId": "2a744093-23d9-4405-904d-4449e7487367"
      },
      "execution_count": null,
      "outputs": [
        {
          "output_type": "stream",
          "name": "stdout",
          "text": [
            "What is your name? saqlain Abbas\n",
            "Hello, saqlain Abbas!\n"
          ]
        }
      ]
    },
    {
      "cell_type": "code",
      "source": [
        "num1 = input(\"Enter first number:\")\n",
        "num2 = input(\"Enter second number:\")\n",
        "sum = int(num1) + int(num2)\n",
        "difference = int(num1) - int(num2)\n",
        "product = int(num1) * int(num2)\n",
        "print(sum)\n",
        "print(difference)\n",
        "print(product)"
      ],
      "metadata": {
        "colab": {
          "base_uri": "https://localhost:8080/"
        },
        "id": "qP2IQUqgCaj4",
        "outputId": "7aaff971-509b-4a2a-e51a-3936aba9e5bb"
      },
      "execution_count": null,
      "outputs": [
        {
          "output_type": "stream",
          "name": "stdout",
          "text": [
            "Enter first number:3\n",
            "Enter second number:5\n",
            "8\n",
            "-2\n",
            "15\n"
          ]
        }
      ]
    },
    {
      "cell_type": "code",
      "source": [
        "num = input(\"Enter a number:\")\n",
        "if(int(num) % 2 == 0):\n",
        "    print(\"Even\")\n",
        "else:\n",
        "    print(\"Odd\")"
      ],
      "metadata": {
        "colab": {
          "base_uri": "https://localhost:8080/"
        },
        "id": "4g6UFf2bDXcH",
        "outputId": "073d728b-93de-418e-ab26-b6b197019595"
      },
      "execution_count": null,
      "outputs": [
        {
          "output_type": "stream",
          "name": "stdout",
          "text": [
            "Enter a number:6\n",
            "Even\n"
          ]
        }
      ]
    },
    {
      "cell_type": "code",
      "source": [
        "list = []\n",
        "for i in range(1,11):\n",
        "    list.append(i*i)\n",
        "print(list)"
      ],
      "metadata": {
        "colab": {
          "base_uri": "https://localhost:8080/"
        },
        "id": "sBqOxOjMDvUV",
        "outputId": "7f99f44e-da95-4f19-de33-8bd8df8b8767"
      },
      "execution_count": null,
      "outputs": [
        {
          "output_type": "stream",
          "name": "stdout",
          "text": [
            "[1, 4, 9, 16, 25, 36, 49, 64, 81, 100]\n"
          ]
        }
      ]
    },
    {
      "cell_type": "code",
      "source": [
        "list = [2,4,12,45,23,5]\n",
        "list.append(3);\n",
        "print(list)\n",
        "list.remove(45)\n",
        "print(list)\n",
        "list.sort()\n",
        "print(list)"
      ],
      "metadata": {
        "id": "pR_rN5E1ElRt",
        "colab": {
          "base_uri": "https://localhost:8080/"
        },
        "outputId": "650ebd2b-6cd0-4c1c-9dac-f159960397e7"
      },
      "execution_count": 3,
      "outputs": [
        {
          "output_type": "stream",
          "name": "stdout",
          "text": [
            "[2, 4, 12, 45, 23, 5, 3]\n",
            "[2, 4, 12, 23, 5, 3]\n",
            "[2, 3, 4, 5, 12, 23]\n"
          ]
        }
      ]
    },
    {
      "cell_type": "code",
      "source": [
        "dict = {\n",
        "    \"Ali\": 23,\n",
        "    \"Hassan\": 17\n",
        "}\n",
        "print(dict)\n",
        "dict[\"Hussain\"]=20 #add new student\n",
        "print(dict)\n",
        "dict.update({\"Ali\":16}) #update value\n",
        "print(dict)\n",
        "dict.pop(\"Ali\") #remove student\n",
        "print(dict)"
      ],
      "metadata": {
        "colab": {
          "base_uri": "https://localhost:8080/"
        },
        "id": "HVhOK77gmrMw",
        "outputId": "c0f261a9-b4ea-497b-e56f-2323f76e598c"
      },
      "execution_count": 8,
      "outputs": [
        {
          "output_type": "stream",
          "name": "stdout",
          "text": [
            "{'Ali': 23, 'Hassan': 17}\n",
            "{'Ali': 23, 'Hassan': 17, 'Hussain': 20}\n",
            "{'Ali': 16, 'Hassan': 17, 'Hussain': 20}\n",
            "{'Hassan': 17, 'Hussain': 20}\n"
          ]
        }
      ]
    },
    {
      "cell_type": "code",
      "source": [
        "def calArea():\n",
        "  radius = input('Enter Radius:')\n",
        "  Area = 3.145 * int(radius) * int(radius)\n",
        "  print(Area)\n",
        "calArea()"
      ],
      "metadata": {
        "colab": {
          "base_uri": "https://localhost:8080/"
        },
        "id": "G8qJ9zebovpy",
        "outputId": "f3e60c25-672b-43f5-b614-27b5f0a72230"
      },
      "execution_count": 9,
      "outputs": [
        {
          "output_type": "stream",
          "name": "stdout",
          "text": [
            "Enter Radius:3\n",
            "28.305\n"
          ]
        }
      ]
    },
    {
      "cell_type": "code",
      "source": [
        "sum = lambda x,y:x+y\n",
        "print(sum(3,5))"
      ],
      "metadata": {
        "colab": {
          "base_uri": "https://localhost:8080/"
        },
        "id": "ldeIilj1qdQR",
        "outputId": "a0725ffe-cd61-42fd-e854-97fe49ab3ac3"
      },
      "execution_count": 10,
      "outputs": [
        {
          "output_type": "stream",
          "name": "stdout",
          "text": [
            "8\n"
          ]
        }
      ]
    },
    {
      "cell_type": "code",
      "source": [
        "addList = [x for x in range(1,21) if x%2==0]\n",
        "print(addList)"
      ],
      "metadata": {
        "colab": {
          "base_uri": "https://localhost:8080/"
        },
        "id": "2DJv9gmvqvoK",
        "outputId": "3c8bb2b8-0986-48f0-d5c9-9f5eeec1d74a"
      },
      "execution_count": 11,
      "outputs": [
        {
          "output_type": "stream",
          "name": "stdout",
          "text": [
            "[2, 4, 6, 8, 10, 12, 14, 16, 18, 20]\n"
          ]
        }
      ]
    }
  ]
}